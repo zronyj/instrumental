{
  "nbformat": 4,
  "nbformat_minor": 0,
  "metadata": {
    "colab": {
      "name": "QSRR_GC.ipynb",
      "version": "0.3.2",
      "provenance": [],
      "collapsed_sections": [],
      "include_colab_link": true
    },
    "kernelspec": {
      "name": "python2",
      "display_name": "Python 2"
    }
  },
  "cells": [
    {
      "cell_type": "markdown",
      "metadata": {
        "id": "view-in-github",
        "colab_type": "text"
      },
      "source": [
        "<a href=\"https://colab.research.google.com/github/zronyj/instrumental/blob/master/QSRR_GC.ipynb\" target=\"_parent\"><img src=\"https://colab.research.google.com/assets/colab-badge.svg\" alt=\"Open In Colab\"/></a>"
      ]
    },
    {
      "metadata": {
        "id": "s9kME30IZPXs",
        "colab_type": "text"
      },
      "cell_type": "markdown",
      "source": [
        "# Relación Cuantitativa Estructura-Retención\n",
        "## Introducción\n",
        "¡Te damos la bienvenida a un cuaderno interactivo de [Colaboratory](https://marvinjs-demo.chemaxon.com/latest/demo.html)!\n",
        "\n",
        "En esta ocasión vamos a construir modelos matemáticos/estadísticos con los que intentaremos predecir los tiempos de retención de diferentes sustancias sometidas a cromatografía de gases **-GC-**. Para esto vamos a utilizar el lenguaje de programación [Python](https://www.python.org/about/), los paquetes [RDKit](https://www.rdkit.org/docs/Overview.html), [NumPy](http://www.numpy.org/) y [scikit-learn](http://scikit-learn.org/stable/).\n",
        "\n",
        "Para prepararnos, vamos a necesitar de instalar e importar todos los paquetes necesarios. Para ejecutar cada celda de trabajo, presiona **Shift + Enter**."
      ]
    },
    {
      "metadata": {
        "id": "Ex-0O0b5n_8n",
        "colab_type": "code",
        "cellView": "both",
        "outputId": "7a80eb1a-264a-4b99-c056-2473c7d54c5d",
        "colab": {
          "base_uri": "https://localhost:8080/",
          "height": 136
        }
      },
      "cell_type": "code",
      "source": [
        "#Instalando paquetes necesarios para el calculo de descriptores\n",
        "!apt-get install python-rdkit librdkit1 rdkit-data"
      ],
      "execution_count": 1,
      "outputs": [
        {
          "output_type": "stream",
          "text": [
            "Reading package lists... Done\n",
            "Building dependency tree       \n",
            "Reading state information... Done\n",
            "librdkit1 is already the newest version (201603.5+dfsg-1ubuntu1).\n",
            "python-rdkit is already the newest version (201603.5+dfsg-1ubuntu1).\n",
            "rdkit-data is already the newest version (201603.5+dfsg-1ubuntu1).\n",
            "0 upgraded, 0 newly installed, 0 to remove and 2 not upgraded.\n"
          ],
          "name": "stdout"
        }
      ]
    },
    {
      "metadata": {
        "id": "bD7lHSbln3OW",
        "colab_type": "code",
        "colab": {}
      },
      "cell_type": "code",
      "source": [
        "# Importando librerias\n",
        "from sklearn import svm\n",
        "from sklearn import tree\n",
        "from sklearn import linear_model\n",
        "from sklearn import neural_network\n",
        "from sklearn.preprocessing import MinMaxScaler\n",
        "from rdkit import Chem\n",
        "from rdkit.Chem import Draw\n",
        "from rdkit.Chem import AllChem\n",
        "from rdkit.Chem import Descriptors\n",
        "import numpy as np"
      ],
      "execution_count": 0,
      "outputs": []
    },
    {
      "metadata": {
        "id": "3veFt_ULbxe9",
        "colab_type": "text"
      },
      "cell_type": "markdown",
      "source": [
        "## Teoría: Quantitative Structure Retention (time) Relationship -QSRR-\n",
        "Existe una teoría en la que se relaciona una **propiedad intrínseca** de una molécula con una **propiedad experimental** mediante un **modelo**. En palabras más sencillas, lo que se busca es relacionar algo que se sabe de antemano de una molécula (e.g. peso molecular) con un observable (e.g. punto de ebullición) mediante una fórmula.\n",
        "\n",
        "$$Propiedad = f \\left( prop.\\ fisicoquimica / prop.\\ estructural \\right) + Error$$\n",
        "\n",
        "La teoría se propuso originalmente para modelar actividad biológica, llegando a poder predecir el comportamiento de medicamentos, agroquímicos y materiales. En química, la teoría se ha utilizado para predecir *reactividad*, *toxicidad*, *potencial electroquímico*, *biodegradabilidad*, etc.\n",
        "\n",
        "---"
      ]
    },
    {
      "metadata": {
        "id": "v3vJ_Z0JoSHP",
        "colab_type": "text"
      },
      "cell_type": "markdown",
      "source": [
        "## Metodología\n",
        "### Descriptores\n",
        "En este caso en particular, vamos a intentar modelar los tiempos de retención en cromatografía de gases a partir de **descriptores estructurales**. Estos últimos son características estructurales de una molécula que se pueden calcular de manera teórica. Parte de un buen modelo QSRR es el saber escoger los descriptores que más información proveen sobre la propiedad deseada. Este tema ha sido ampliamente estudiado y es posible leer más en [Molecular Descriptors](http://www.moleculardescriptors.eu/). Los descriptores ofrecidos por RDKit se hallan descritos [en este enlace](http://www.rdkit.org/docs/GettingStartedInPython.html#list-of-available-descriptors), aunque si deseas investigar otros y a mayor profundidad, puedes buscar en este libro: [Handbook of Molecular Descriptors](https://onlinelibrary.wiley.com/doi/book/10.1002/9783527613106).\n",
        "\n",
        "### Modelo\n",
        "Posteriormente, vamos a buscar cuál de los siguientes modelos da los mejores resultados:\n",
        "* [Regresión Lineal](http://scikit-learn.org/stable/modules/generated/sklearn.linear_model.LinearRegression.html)\n",
        "* [Árbol de Decisiones](http://scikit-learn.org/stable/modules/generated/sklearn.tree.DecisionTreeRegressor.html)\n",
        "* [Máquina de Soporte Vectorial](http://scikit-learn.org/stable/modules/generated/sklearn.svm.LinearSVR.html)\n",
        "* [Red Neural Artifical](http://scikit-learn.org/stable/modules/generated/sklearn.neural_network.MLPRegressor.html)\n",
        "\n",
        "Cada modelo utiliza un fundamento de matemática distinto y, aunque todos resultan realizando una regresión, cada modelo tiene sus ventajas y desventajas basado en la manera en que lo hace. **scikit-learn** provee todos los fundamentos matemáticos y los enlaces a los artículos científicos en su página si se desea profundizar en el tema.\n",
        "\n",
        "### Propiedad\n",
        "Esta es la cantidad más importante, pues sin ella el modelo no tiene sentido. La propiedad que vamos a utilizar son los tiempos de retención en GC de varias moléculas. Esta información la podemos encontrar en el artículo [Prediction of Gas Chromatographic Retention Times and Response Factors Using a General Qualitative Structure-Property Relationships Treatment](https://pubs.acs.org/doi/abs/10.1021/ac00083a005). Aunque el artículo también podemos encontrarlo en [este enlace](http://140.115.145.114/admin/fileup/files/20110302114300.pdf)."
      ]
    },
    {
      "metadata": {
        "id": "P9UtbV-isQDk",
        "colab_type": "text"
      },
      "cell_type": "markdown",
      "source": [
        "## Ejemplo\n",
        "### QSPR: descriptores estructurales - punto de fusión\n",
        "Antes de comenzar con el estudio formal, vamos a comenzar viendo unos ejemplos. El primero es un ejemplo clásico en el curso de Química Orgánica. Vamos a buscar predecir el punto de ebullición de algunos alcoholes. Para eso vamos a hacer uso del formato **SMILES** para introducir las moléculas al cuaderno interactivo. Para mayor información sobre el formato SMILES, podemos visitar [este enlace](http://www.daylight.com/dayhtml/doc/theory/theory.smiles.html). La alternativa es dibujar las moléculas y luego exportarlas en el mismo formato utilizando [Marvin JS](https://marvinjs-demo.chemaxon.com/latest/demo.html)."
      ]
    },
    {
      "metadata": {
        "id": "cPae4gXutGe3",
        "colab_type": "code",
        "colab": {}
      },
      "cell_type": "code",
      "source": [
        "# Definiendo los alcoholes con los que se trabajara\n",
        "# Entradas = \"nombre\":[\"SMILES\", punto de ebullicion]\n",
        "alcoholes = {\"metanol\":[\"CO\",64.7],\n",
        "             \"etanol\":[\"CCO\",78.4],\n",
        "             \"propanol\":[\"CCCO\",97.0],\n",
        "             \"isopropanol\":[\"C(C)CO\",82.6],\n",
        "             \"butanol\":[\"CCCCO\",117.7],\n",
        "             \"isobutanol\":[\"C(C)CCO\",108.0],\n",
        "             \"tertbutanol\":[\"C(C)(C)CO\",82.2],\n",
        "             \"pentanol\":[\"CCCCCO\",138.0],\n",
        "             \"isoamilico\":[\"C(C)CCCO\",131.0],\n",
        "             \"tertamilico\":[\"CCC(C)(C)O\",102.0],\n",
        "             \"hexanol\":[\"CCCCCCO\",157.0],\n",
        "             \"isohexilico\":[\"C(C)CCCCO\",151.9],\n",
        "             \"neopentilico\":[\"C(C)(C)(C)CO\",113.5],\n",
        "             \"heptanol\":[\"CCCCCCCO\",175.8],\n",
        "             \"isoheptilico\":[\"C(C)CCCCCO\",151.9],\n",
        "             \"octanol\":[\"CCCCCCCCO\",188.0],\n",
        "             \"decanol\":[\"CCCCCCCCCCO\",232.9],\n",
        "             \"isodecilico\":[\"C(C)CCCCCCCCO\",220.0],\n",
        "             \"dodecanol\":[\"CCCCCCCCCCCCO\",259.0]}"
      ],
      "execution_count": 0,
      "outputs": []
    },
    {
      "metadata": {
        "id": "KuLU-AV-0sqt",
        "colab_type": "text"
      },
      "cell_type": "markdown",
      "source": [
        "Ahora vamos a convertir los SMILES en objetos *molécula* de RDKit para después poder calcular sus propiedades. Estas operaciones siempre se deben de hacer."
      ]
    },
    {
      "metadata": {
        "id": "v00LAjeN08wX",
        "colab_type": "code",
        "colab": {}
      },
      "cell_type": "code",
      "source": [
        "alcobjetos = {}\n",
        "nombres = alcoholes.keys()\n",
        "for n in nombres:\n",
        "  x = Chem.MolFromSmiles(alcoholes[n][0])\n",
        "  x.SetProp(\"_Name\",n)\n",
        "  x = Chem.AddHs(x)\n",
        "  AllChem.EmbedMolecule(x)\n",
        "  AllChem.MMFFOptimizeMolecule(x)\n",
        "  alcobjetos[n] = [x, alcoholes[n][1]]"
      ],
      "execution_count": 0,
      "outputs": []
    },
    {
      "metadata": {
        "id": "wLkJ3Fum1NBq",
        "colab_type": "text"
      },
      "cell_type": "markdown",
      "source": [
        "Ahora que ya contamos con cada una de las moléculas con sus respectivos hidrógenos y con una geometría optimizada en 3D, podemos comenzar a calcular los descriptores."
      ]
    },
    {
      "metadata": {
        "id": "voHRj4I5KLs0",
        "colab_type": "code",
        "colab": {}
      },
      "cell_type": "code",
      "source": [
        "# Creamos una funcion que nos calcule todos los descriptores\n",
        "def obtener_descriptores(molecula):\n",
        "  logP = Descriptors.MolLogP(molecula)\n",
        "  molw = Descriptors.MolWt(molecula)\n",
        "  balj = Descriptors.BalabanJ(molecula)\n",
        "  rota = Descriptors.NumRotatableBonds(molecula)\n",
        "  return [logP, molw, balj, rota]"
      ],
      "execution_count": 0,
      "outputs": []
    },
    {
      "metadata": {
        "id": "iuY80GkR1cxE",
        "colab_type": "code",
        "colab": {}
      },
      "cell_type": "code",
      "source": [
        "cuantos = len(nombres)\n",
        "descriptoles = [0] * cuantos\n",
        "valores = [0] * cuantos\n",
        "for i in xrange(cuantos):\n",
        "  n = nombres[i]\n",
        "  descriptoles[i] = obtener_descriptores(alcobjetos[n][0])\n",
        "  valores[i] = alcobjetos[n][1]"
      ],
      "execution_count": 0,
      "outputs": []
    },
    {
      "metadata": {
        "id": "509dMasw9uMF",
        "colab_type": "text"
      },
      "cell_type": "markdown",
      "source": [
        "Ya con los descriptores calculados como una matriz y con los valores de puntos de ebullición como un vector, vamos a convertir esto en formato NumPy y entrenar nuestros modelos con scikit-learn."
      ]
    },
    {
      "metadata": {
        "id": "ZNwfokaq95v8",
        "colab_type": "code",
        "colab": {
          "base_uri": "https://localhost:8080/",
          "height": 85
        },
        "outputId": "027b577f-0aa8-48fe-e84c-cad24f16975a"
      },
      "cell_type": "code",
      "source": [
        "descriptoles = np.array(descriptoles)\n",
        "valores = np.array(valores)\n",
        "\n",
        "# Regresion lineal\n",
        "reg = linear_model.LinearRegression().fit(descriptoles, valores)\n",
        "print \"Regresion lineal - R2: \", reg.score(descriptoles, valores)\n",
        "\n",
        "# Arbol de decision\n",
        "arbol = tree.DecisionTreeRegressor().fit(descriptoles, valores)\n",
        "print \"Arbol de decision - R2: \", arbol.score(descriptoles, valores)\n",
        "\n",
        "# Maquina de soporte vectorial\n",
        "msv = svm.LinearSVR().fit(descriptoles, valores)\n",
        "print \"Maquina de SV - R2: \", msv.score(descriptoles, valores)\n",
        "\n",
        "# Red neural artifical\n",
        "# Las redes neurales son los modelos mas complejos\n",
        "# Estos llevan mucha calibracion y deben de entenderse a profundidad\n",
        "rna = neural_network.MLPRegressor(hidden_layer_sizes=(50,50), solver=\"lbfgs\",\n",
        "                                  activation=\"logistic\", alpha=0.001,\n",
        "                                  max_iter=500)\n",
        "# Debemos normalizar los datos previamente\n",
        "normalizar = MinMaxScaler(feature_range=(0, 1))\n",
        "normalizar.fit(descriptoles)\n",
        "descript = normalizar.transform(descriptoles)\n",
        "# Ahora ya podemos entrenar la red\n",
        "rna.fit(descript, valores)\n",
        "print \"Red neural - R2: \", rna.score(descript, valores)\n"
      ],
      "execution_count": 16,
      "outputs": [
        {
          "output_type": "stream",
          "text": [
            "Regresion lineal - R2:  0.9759486384755583\n",
            "Arbol de decision - R2:  0.9898807111099519\n",
            "Maquina de SV - R2:  0.943066323580247\n",
            "Red neural - R2:  0.9898734968098496\n"
          ],
          "name": "stdout"
        }
      ]
    },
    {
      "metadata": {
        "id": "7hdT1BvaIwWz",
        "colab_type": "text"
      },
      "cell_type": "markdown",
      "source": [
        "Ahora que ya conocemos los $R^2$ de cada modelo, podemos escoger el que mejor nos pareció y aplicarlo a un nuevo dato. Vamos a probarlo con la molécula de alcohol isononílico."
      ]
    },
    {
      "metadata": {
        "id": "TTuE8BwEKA-v",
        "colab_type": "code",
        "colab": {
          "base_uri": "https://localhost:8080/",
          "height": 85
        },
        "outputId": "a052969a-8e54-4fe7-f248-57716acbc48f"
      },
      "cell_type": "code",
      "source": [
        "# Escribimos el SMILES\n",
        "isononilico = \"C(C)CCCCCCCO\"\n",
        "# Convertimos la molecula en objeto RDKit\n",
        "y = Chem.MolFromSmiles(isononilico)\n",
        "y.SetProp(\"_Name\",\"isononilico\")\n",
        "y = Chem.AddHs(y)\n",
        "AllChem.EmbedMolecule(y)\n",
        "AllChem.MMFFOptimizeMolecule(y)\n",
        "# Calculamos descriptores\n",
        "\n",
        "dy = np.array([obtener_descriptores(y)])\n",
        "print \"Segun regresion lineal:\", round( reg.predict(dy)[0], 2 )\n",
        "print \"Segun arbol de decision:\", round( arbol.predict(dy)[0], 2 )\n",
        "print \"Segun maquina de SV:\", round( msv.predict(dy)[0], 2 )\n",
        "ndy = normalizar.transform(dy)\n",
        "print \"Segun red neural:\", round( rna.predict(ndy)[0], 2 )"
      ],
      "execution_count": 17,
      "outputs": [
        {
          "output_type": "stream",
          "text": [
            "Segun regresion lineal: 204.95\n",
            "Segun arbol de decision: 188.0\n",
            "Segun maquina de SV: 211.01\n",
            "Segun red neural: 205.36\n"
          ],
          "name": "stdout"
        }
      ]
    },
    {
      "metadata": {
        "id": "akDbjBZNOyHX",
        "colab_type": "text"
      },
      "cell_type": "markdown",
      "source": [
        "¡Y con esto acaba el ejemplo! Obtuvimos una aproximación del punto de ebullición del alcohol isononílico en base a varias técnicas. Ahora lo importante es buscar qué tan cerca están estas técnicas del valor real.\n",
        "\n",
        "---"
      ]
    },
    {
      "metadata": {
        "id": "jmnOIgrZPG4K",
        "colab_type": "text"
      },
      "cell_type": "markdown",
      "source": [
        "## Proyecto\n",
        "Después de haber visto un ejemplo de cómo se utilizan valores experimentales, descriptores y un modelo matemático para construir un modelo estructura-propiedad, es momento de trabajar con más datos y algo más aplicado. A continuación se te presentan los primeros 41 datos de la tabla de 152 en el artículo antes mencionado. Tu tarea consta de lo siguiente:\n",
        "1. **Completar el diccionario** con los demás datos de la tabla\n",
        "2. Convertir los SMILES a **objetos RDKit**\n",
        "3. Encontrar **qué descriptores** utilizarás en tu estudio\n",
        "4. **Calcular los descriptores** de tu elección\n",
        "5. Escoger **qué modelos** vas a probar\n",
        "6. **Entrenar los modelos** y calcular el coeficiente de determinación $R^2$\n",
        "7. **Calcular el tiempo de retención** de una molécula que se te dará al momento de realizar este proyecto\n",
        "\n",
        "Vale la pena recordar un par de cosas:\n",
        "* Los descriptores es bueno calcularlos todos con una función\n",
        "* Las redes neurales son delicadas; cuesta bastante trabajo calibrarlas\n",
        "* ¡Muchos éxitos!\n"
      ]
    },
    {
      "metadata": {
        "id": "FYM9Mroan7TR",
        "colab_type": "code",
        "colab": {}
      },
      "cell_type": "code",
      "source": [
        "# Definiendo las moleculas con las que se trabajara\n",
        "# Entradas = \"nombre\":[\"SMILES\", tiempo de retencion]\n",
        "moleculas = {\"heptano\":[\"CCCCCCC\",1.78],\n",
        "             \"decano\":[\"CCCCCCCCCC\",4.59],\n",
        "             \"dodecano\":[\"CCCCCCCCCCCC\",6.34],\n",
        "             \"pentadecano\":[\"CCCCCCCCCCCCCCC\",8.56],\n",
        "             \"eicosano\":[\"CCCCCCCCCCCCCCCCCCCC\",11.55],\n",
        "             \"ciclohexano\":[\"C1CCCCC1\",1.53],\n",
        "             \"1-octeno\":[\"C=CCCCCCC\",2.53],\n",
        "             \"1-deceno\":[\"C=CCCCCCCCC\",4.45],\n",
        "             \"benceno\":[\"C1=CC=CC=C1\",1.46],\n",
        "             \"tolueno\":[\"C1(C)=CC=CC=C1\",2.23],\n",
        "             \"o-xileno\":[\"C1(C)=C(C)C=CC=C1\",3.43],\n",
        "             \"etilbenceno\":[\"C1(CC)=CC=CC=C1\",3.12],\n",
        "             \"propilbenceno\":[\"C1(CCC)=CC=CC=C1\",4.04],\n",
        "             \"alilbenceno\":[\"C1(CC=C)=CC=CC=C1\",3.93],\n",
        "             \"anisol\":[\"C1(OC)=CC=CC=C1\",3.59],\n",
        "             \"mesitileno\":[\"C1(C)=CC(C)=CC(C)=C1\",4.18],\n",
        "             \"a-metilestireno\":[\"C1(C(=C)C)=CC=CC=C1\",4.27],\n",
        "             \"ciclohexilbenceno\":[\"C1(C2CCCCC2)=CC=CC=C1\",7.24],\n",
        "             \"hexametilbenceno\":[\"C1(C)=C(C)C(C)=C(C)C(C)=C1(C)\",8.21],\n",
        "             \"4-fenil-1-buteno\":[\"C=CCC(C1=CC=CC=C1)\",4.87],\n",
        "             \"bifenilo\":[\"C1(C2=CC=CC=C2)=CC=CC=C1\",7.60],\n",
        "             \"cumeno\":[\"C1(C(C)C)=CC=CC=C1\",3.75],\n",
        "             \"indano\":[\"C1(CCC2)=C2C=CC=C1\",4.79],\n",
        "             \"tetralina\":[\"C1(CCCC2)=C2C=CC=C1\",5.92],\n",
        "             \"difenilmetano\":[\"C1(CC2=CC=CC=C2)=CC=CC=C1\",7.96],\n",
        "             \"estilbeno\":[\"C1(/C=C/C2=CC=CC=C2)=CC=CC=C1\",9.79],\n",
        "             \"naftaleno\":[\"C1(C=CC=C2)=C2C=CC=C1\",6.09],\n",
        "             \"1-bencilnaftaleno\":[\"C1(C=CC=C2)=C2C(C3=CC=CC=C3)=CC=C1\",11.39],\n",
        "             \"1,1'-binaftil\":[\"C1(C=CC=C2)=C2C(C3=C(C=CC=C4)C4=CC=C3)=CC=C1\",14.14],\n",
        "             \"fenantreno\":[\"C1(C(C=CC=C3)=C3C=C2)=C2C=CC=C1\",10.27],\n",
        "             \"antraceno\":[\"C1(C=C(C=CC=C3)C3=C2)=C2C=CC=C1\",10.34],\n",
        "             \"fluoreno\":[\"C1=C(C(C=CC=C3)=C3C2)C2=CC=C1\",10.28],\n",
        "             \"bibencilo\":[\"C1(CC(C2=CC=CC=C2))=CC=CC=C1\",8.61],\n",
        "             \"1-octanol\":[\"CCCCCCCCO\",5.10],\n",
        "             \"1-decanol\":[\"CCCCCCCCCCO\",6.77],\n",
        "             \"1-dodecanol\":[\"CCCCCCCCCCCCO\",8.26],\n",
        "             \"ciclopentanol\":[\"C1(O)CCCC1\",2.32],\n",
        "             \"ciclohexanol\":[\"C1(O)CCCCC1\",3.27],\n",
        "             \"fenol\":[\"C1(O)=CC=CC=C1\",4.16],\n",
        "             \"p-cresol\":[\"C1(O)=CC=C(C)C=C1\",5.02],\n",
        "             \"m-cresol\":[\"C1(O)=CC(C)=CC=C1\",5.03],\n",
        "             \"o-cresol\":[\"C1(O)=C(C)C=CC=C1\",4.84]}"
      ],
      "execution_count": 0,
      "outputs": []
    },
    {
      "metadata": {
        "id": "9AzIRAJHJf_C",
        "colab_type": "code",
        "colab": {}
      },
      "cell_type": "code",
      "source": [
        "objetos = {}\n",
        "nombres = moleculas.keys()\n",
        "for n in nombres:\n",
        "  x = Chem.MolFromSmiles(moleculas[n][0])\n",
        "  Chem.Kekulize(x)\n",
        "  x.SetProp(\"_Name\",n)\n",
        "  x = Chem.AddHs(x)\n",
        "  AllChem.EmbedMolecule(x)\n",
        "  AllChem.MMFFOptimizeMolecule(x)\n",
        "  objetos[n] = [x, moleculas[n][1]]"
      ],
      "execution_count": 0,
      "outputs": []
    },
    {
      "metadata": {
        "id": "zsYD31nDRYbg",
        "colab_type": "code",
        "colab": {}
      },
      "cell_type": "code",
      "source": [
        "# Funcion para calcular descriptores\n",
        "def deseo_descriptores(molecula):\n",
        "  # Aqui van los calculos de descriptores\n",
        "  # y se van colocando en variables diferentes\n",
        "  # que al final se combinan\n",
        "  return []"
      ],
      "execution_count": 0,
      "outputs": []
    },
    {
      "metadata": {
        "id": "bOoWNiBhME4H",
        "colab_type": "code",
        "colab": {}
      },
      "cell_type": "code",
      "source": [
        "# Esta funcion te puede ayudar si deseas visualizar alguna\n",
        "# de las moleculas en la lista\n",
        "def mostrar(molecula):\n",
        "  x = objetos[molecula][0]\n",
        "  AllChem.Compute2DCoords(x)\n",
        "  x = Chem.RemoveHs(x)\n",
        "  Draw.MolToMPL(x,size=(100,100))"
      ],
      "execution_count": 0,
      "outputs": []
    },
    {
      "metadata": {
        "id": "9xkWnoPDQ8Te",
        "colab_type": "code",
        "colab": {
          "base_uri": "https://localhost:8080/",
          "height": 211
        },
        "outputId": "eae491f3-8cc0-4c20-ce11-5d932869a86d"
      },
      "cell_type": "code",
      "source": [
        "# Se utiliza de esta manera\n",
        "mostrar(\"estilbeno\")"
      ],
      "execution_count": 13,
      "outputs": [
        {
          "output_type": "display_data",
          "data": {
            "image/png": "[encoded data removed]",
            "text/plain": [
              "<matplotlib.figure.Figure at 0x7f545d70a290>"
            ]
          },
          "metadata": {
            "tags": []
          }
        }
      ]
    },
    {
      "metadata": {
        "id": "42Qxm2kQTtPi",
        "colab_type": "code",
        "colab": {}
      },
      "cell_type": "code",
      "source": [
        ""
      ],
      "execution_count": 0,
      "outputs": []
    }
  ]
}