{
  "nbformat": 4,
  "nbformat_minor": 0,
  "metadata": {
    "colab": {
      "name": "QSRR_GC.ipynb",
      "version": "0.3.2",
      "provenance": [],
      "collapsed_sections": [],
      "include_colab_link": true
    },
    "kernelspec": {
      "name": "python2",
      "display_name": "Python 2"
    }
  },
  "cells": [
    {
      "cell_type": "markdown",
      "metadata": {
        "id": "view-in-github",
        "colab_type": "text"
      },
      "source": [
        "<a href=\"https://colab.research.google.com/github/zronyj/instrumental/blob/master/QSRR_GC.ipynb\" target=\"_parent\"><img src=\"https://colab.research.google.com/assets/colab-badge.svg\" alt=\"Open In Colab\"/></a>"
      ]
    },
    {
      "metadata": {
        "id": "s9kME30IZPXs",
        "colab_type": "text"
      },
      "cell_type": "markdown",
      "source": [
        "# Relación Cuantitativa Estructura-Retención\n",
        "## Introducción\n",
        "¡Te damos la bienvenida a un cuaderno interactivo de [Colaboratory](https://marvinjs-demo.chemaxon.com/latest/demo.html)!\n",
        "\n",
        "En esta ocasión vamos a construir modelos matemáticos/estadísticos con los que intentaremos predecir los tiempos de retención de diferentes sustancias sometidas a cromatografía de gases **-GC-**. Para esto vamos a utilizar el lenguaje de programación [Python](https://www.python.org/about/), los paquetes [RDKit](https://www.rdkit.org/docs/Overview.html), [NumPy](http://www.numpy.org/) y [scikit-learn](http://scikit-learn.org/stable/).\n",
        "\n",
        "Para prepararnos, vamos a necesitar de instalar e importar todos los paquetes necesarios. Para ejecutar cada celda de trabajo, presiona **Shift + Enter**."
      ]
    },
    {
      "metadata": {
        "id": "Ex-0O0b5n_8n",
        "colab_type": "code",
        "cellView": "both",
        "outputId": "75e4e97e-af42-4af9-86b3-fd55aecd6221",
        "colab": {
          "base_uri": "https://localhost:8080/",
          "height": 646
        }
      },
      "cell_type": "code",
      "source": [
        "#Instalando paquetes necesarios para el calculo de descriptores\n",
        "!apt-get install python-rdkit librdkit1 rdkit-data"
      ],
      "execution_count": 1,
      "outputs": [
        {
          "output_type": "stream",
          "text": [
            "Reading package lists... Done\n",
            "Building dependency tree       \n",
            "Reading state information... Done\n",
            "The following additional packages will be installed:\n",
            "  fonts-freefont-ttf\n",
            "Suggested packages:\n",
            "  rdkit-doc\n",
            "The following NEW packages will be installed:\n",
            "  fonts-freefont-ttf librdkit1 python-rdkit rdkit-data\n",
            "0 upgraded, 4 newly installed, 0 to remove and 8 not upgraded.\n",
            "Need to get 16.2 MB of archives.\n",
            "After this operation, 66.1 MB of additional disk space will be used.\n",
            "Get:1 http://archive.ubuntu.com/ubuntu bionic/main amd64 fonts-freefont-ttf all 20120503-7 [4,202 kB]\n",
            "Get:2 http://archive.ubuntu.com/ubuntu bionic/universe amd64 librdkit1 amd64 201603.5+dfsg-1ubuntu1 [2,013 kB]\n",
            "Get:3 http://archive.ubuntu.com/ubuntu bionic/universe amd64 rdkit-data all 201603.5+dfsg-1ubuntu1 [6,660 kB]\n",
            "Get:4 http://archive.ubuntu.com/ubuntu bionic/universe amd64 python-rdkit amd64 201603.5+dfsg-1ubuntu1 [3,372 kB]\n",
            "Fetched 16.2 MB in 1s (11.7 MB/s)\n",
            "Selecting previously unselected package fonts-freefont-ttf.\n",
            "(Reading database ... 131352 files and directories currently installed.)\n",
            "Preparing to unpack .../fonts-freefont-ttf_20120503-7_all.deb ...\n",
            "Unpacking fonts-freefont-ttf (20120503-7) ...\n",
            "Selecting previously unselected package librdkit1.\n",
            "Preparing to unpack .../librdkit1_201603.5+dfsg-1ubuntu1_amd64.deb ...\n",
            "Unpacking librdkit1 (201603.5+dfsg-1ubuntu1) ...\n",
            "Selecting previously unselected package rdkit-data.\n",
            "Preparing to unpack .../rdkit-data_201603.5+dfsg-1ubuntu1_all.deb ...\n",
            "Unpacking rdkit-data (201603.5+dfsg-1ubuntu1) ...\n",
            "Selecting previously unselected package python-rdkit.\n",
            "Preparing to unpack .../python-rdkit_201603.5+dfsg-1ubuntu1_amd64.deb ...\n",
            "Unpacking python-rdkit (201603.5+dfsg-1ubuntu1) ...\n",
            "Setting up rdkit-data (201603.5+dfsg-1ubuntu1) ...\n",
            "Processing triggers for libc-bin (2.27-3ubuntu1) ...\n",
            "Setting up fonts-freefont-ttf (20120503-7) ...\n",
            "Processing triggers for fontconfig (2.12.6-0ubuntu2) ...\n",
            "Setting up librdkit1 (201603.5+dfsg-1ubuntu1) ...\n",
            "Setting up python-rdkit (201603.5+dfsg-1ubuntu1) ...\n",
            "Processing triggers for libc-bin (2.27-3ubuntu1) ...\n"
          ],
          "name": "stdout"
        }
      ]
    },
    {
      "metadata": {
        "id": "bD7lHSbln3OW",
        "colab_type": "code",
        "colab": {}
      },
      "cell_type": "code",
      "source": [
        "# Importando librerias\n",
        "from sklearn import svm\n",
        "from sklearn import tree\n",
        "from sklearn import linear_model\n",
        "from sklearn import neural_network\n",
        "from sklearn.preprocessing import MinMaxScaler\n",
        "from rdkit import Chem\n",
        "from rdkit.Chem import Draw\n",
        "from rdkit.Chem import AllChem\n",
        "from rdkit.Chem import Descriptors\n",
        "import numpy as np"
      ],
      "execution_count": 0,
      "outputs": []
    },
    {
      "metadata": {
        "id": "3veFt_ULbxe9",
        "colab_type": "text"
      },
      "cell_type": "markdown",
      "source": [
        "## Teoría: Quantitative Structure Activity/Property Relationship -QSAR/QSPR-\n",
        "Existe una teoría en la que se relaciona una **propiedad intrínseca** de una molécula con una **propiedad experimental** mediante un **modelo**. En palabras más sencillas, lo que se busca es relacionar algo que se sabe de antemano de una molécula (e.g. peso molecular) con un observable (e.g. punto de ebullición) mediante una fórmula.\n",
        "\n",
        "$$Propiedad = f \\left( prop.\\ fisicoquimica / prop.\\ estructural \\right) + Error$$\n",
        "\n",
        "La teoría se propuso originalmente para modelar actividad biológica, llegando a poder predecir el comportamiento de medicamentos, agroquímicos y materiales. En química, la teoría se ha utilizado para predecir *reactividad*, *toxicidad*, *potencial electroquímico*, *biodegradabilidad*, *tiempos de retención en cromatografía*, etc.\n",
        "\n",
        "---"
      ]
    },
    {
      "metadata": {
        "id": "v3vJ_Z0JoSHP",
        "colab_type": "text"
      },
      "cell_type": "markdown",
      "source": [
        "## Metodología\n",
        "### Descriptores\n",
        "En este caso en particular, vamos a intentar modelar los tiempos de retención en cromatografía de gases a partir de **descriptores estructurales**. Estos últimos son características estructurales de una molécula que se pueden calcular de manera teórica. Parte de un buen modelo QSRR es el saber escoger los descriptores que más información proveen sobre la propiedad deseada. Este tema ha sido ampliamente estudiado y es posible leer más en [Molecular Descriptors](http://www.moleculardescriptors.eu/). Los descriptores ofrecidos por RDKit se hallan descritos [en este enlace](http://www.rdkit.org/docs/GettingStartedInPython.html#list-of-available-descriptors), aunque si deseas investigar otros y a mayor profundidad, puedes buscar en este libro: [Handbook of Molecular Descriptors](https://onlinelibrary.wiley.com/doi/book/10.1002/9783527613106).\n",
        "\n",
        "### Modelo\n",
        "Posteriormente, vamos a buscar cuál de los siguientes modelos da los mejores resultados:\n",
        "* [Regresión Lineal](http://scikit-learn.org/stable/modules/generated/sklearn.linear_model.LinearRegression.html)\n",
        "* [Árbol de Decisiones](http://scikit-learn.org/stable/modules/generated/sklearn.tree.DecisionTreeRegressor.html)\n",
        "* [Máquina de Soporte Vectorial](http://scikit-learn.org/stable/modules/generated/sklearn.svm.LinearSVR.html)\n",
        "* [Red Neural Artifical](http://scikit-learn.org/stable/modules/generated/sklearn.neural_network.MLPRegressor.html)\n",
        "\n",
        "Cada modelo utiliza un fundamento de matemática distinto y, aunque todos resultan realizando una regresión, cada modelo tiene sus ventajas y desventajas basado en la manera en que lo hace. **scikit-learn** provee todos los fundamentos matemáticos y los enlaces a los artículos científicos en su página si se desea profundizar en el tema.\n",
        "\n",
        "### Propiedad\n",
        "Esta es la cantidad más importante, pues sin ella el modelo no tiene sentido. La propiedad que vamos a utilizar son los tiempos de retención en GC de varias moléculas. Esta información la podemos encontrar en el artículo [Prediction of Gas Chromatographic Retention Times and Response Factors Using a General Qualitative Structure-Property Relationships Treatment](https://pubs.acs.org/doi/abs/10.1021/ac00083a005). Aunque el artículo también podemos encontrarlo en [este enlace](http://140.115.145.114/admin/fileup/files/20110302114300.pdf)."
      ]
    },
    {
      "metadata": {
        "id": "P9UtbV-isQDk",
        "colab_type": "text"
      },
      "cell_type": "markdown",
      "source": [
        "## Ejemplo\n",
        "### QSPR: descriptores estructurales - punto de ebullición\n",
        "Antes de comenzar con el estudio formal, vamos a comenzar viendo unos ejemplos. El primero es un ejemplo clásico en el curso de Química Orgánica. Vamos a buscar predecir el punto de ebullición de algunos alcoholes. Para eso vamos a hacer uso del formato **SMILES** para introducir las moléculas al cuaderno interactivo. Para mayor información sobre el formato SMILES, podemos visitar [este enlace](http://www.daylight.com/dayhtml/doc/theory/theory.smiles.html). La alternativa es dibujar las moléculas y luego exportarlas en el mismo formato utilizando [Marvin JS](https://marvinjs-demo.chemaxon.com/latest/demo.html)."
      ]
    },
    {
      "metadata": {
        "id": "cPae4gXutGe3",
        "colab_type": "code",
        "colab": {}
      },
      "cell_type": "code",
      "source": [
        "# Definiendo los alcoholes con los que se trabajara\n",
        "# Entradas = \"nombre\":[\"SMILES\", punto de ebullicion]\n",
        "alcoholes = {\"metanol\":[\"CO\",64.7],\n",
        "             \"etanol\":[\"CCO\",78.4],\n",
        "             \"propanol\":[\"CCCO\",97.0],\n",
        "             \"isopropanol\":[\"C(C)CO\",82.6],\n",
        "             \"butanol\":[\"CCCCO\",117.7],\n",
        "             \"isobutanol\":[\"C(C)CCO\",108.0],\n",
        "             \"tertbutanol\":[\"C(C)(C)CO\",82.2],\n",
        "             \"pentanol\":[\"CCCCCO\",138.0],\n",
        "             \"isoamilico\":[\"C(C)CCCO\",131.0],\n",
        "             \"tertamilico\":[\"CCC(C)(C)O\",102.0],\n",
        "             \"hexanol\":[\"CCCCCCO\",157.0],\n",
        "             \"isohexilico\":[\"C(C)CCCCO\",151.9],\n",
        "             \"neopentilico\":[\"C(C)(C)(C)CO\",113.5],\n",
        "             \"heptanol\":[\"CCCCCCCO\",175.8],\n",
        "             \"isoheptilico\":[\"C(C)CCCCCO\",151.9],\n",
        "             \"octanol\":[\"CCCCCCCCO\",188.0],\n",
        "             \"decanol\":[\"CCCCCCCCCCO\",232.9],\n",
        "             \"isodecilico\":[\"C(C)CCCCCCCCO\",220.0],\n",
        "             \"dodecanol\":[\"CCCCCCCCCCCCO\",259.0]}"
      ],
      "execution_count": 0,
      "outputs": []
    },
    {
      "metadata": {
        "id": "KuLU-AV-0sqt",
        "colab_type": "text"
      },
      "cell_type": "markdown",
      "source": [
        "Ahora vamos a convertir los SMILES en objetos *molécula* de RDKit para después poder calcular sus propiedades. Estas operaciones siempre se deben de hacer."
      ]
    },
    {
      "metadata": {
        "id": "v00LAjeN08wX",
        "colab_type": "code",
        "colab": {}
      },
      "cell_type": "code",
      "source": [
        "alcobjetos = {}\n",
        "nombres = alcoholes.keys()\n",
        "for n in nombres:\n",
        "  x = Chem.MolFromSmiles(alcoholes[n][0])\n",
        "  x.SetProp(\"_Name\",n)\n",
        "  x = Chem.AddHs(x)\n",
        "  AllChem.EmbedMolecule(x)\n",
        "  AllChem.MMFFOptimizeMolecule(x)\n",
        "  alcobjetos[n] = [x, alcoholes[n][1]]"
      ],
      "execution_count": 0,
      "outputs": []
    },
    {
      "metadata": {
        "id": "wLkJ3Fum1NBq",
        "colab_type": "text"
      },
      "cell_type": "markdown",
      "source": [
        "Ahora que ya contamos con cada una de las moléculas con sus respectivos hidrógenos y con una geometría optimizada en 3D, podemos comenzar a calcular los descriptores."
      ]
    },
    {
      "metadata": {
        "id": "voHRj4I5KLs0",
        "colab_type": "code",
        "colab": {}
      },
      "cell_type": "code",
      "source": [
        "# Creamos una funcion que nos calcule todos los descriptores\n",
        "def obtener_descriptores(molecula):\n",
        "  logP = Descriptors.MolLogP(molecula)\n",
        "  molw = Descriptors.MolWt(molecula)\n",
        "  balj = Descriptors.BalabanJ(molecula)\n",
        "  rota = Descriptors.NumRotatableBonds(molecula)\n",
        "  return [logP, molw, balj, rota]"
      ],
      "execution_count": 0,
      "outputs": []
    },
    {
      "metadata": {
        "id": "iuY80GkR1cxE",
        "colab_type": "code",
        "colab": {}
      },
      "cell_type": "code",
      "source": [
        "cuantos = len(nombres)\n",
        "descriptoles = [0] * cuantos\n",
        "valores = [0] * cuantos\n",
        "for i in xrange(cuantos):\n",
        "  n = nombres[i]\n",
        "  descriptoles[i] = obtener_descriptores(alcobjetos[n][0])\n",
        "  valores[i] = alcobjetos[n][1]"
      ],
      "execution_count": 0,
      "outputs": []
    },
    {
      "metadata": {
        "id": "509dMasw9uMF",
        "colab_type": "text"
      },
      "cell_type": "markdown",
      "source": [
        "Ya con los descriptores calculados como una matriz y con los valores de puntos de ebullición como un vector, vamos a convertir esto en formato NumPy y entrenar nuestros modelos con scikit-learn."
      ]
    },
    {
      "metadata": {
        "id": "ZNwfokaq95v8",
        "colab_type": "code",
        "outputId": "9603e04b-8570-426d-e986-74575124d16b",
        "colab": {
          "base_uri": "https://localhost:8080/",
          "height": 85
        }
      },
      "cell_type": "code",
      "source": [
        "descriptoles = np.array(descriptoles)\n",
        "valores = np.array(valores)\n",
        "\n",
        "# Regresion lineal\n",
        "reg = linear_model.LinearRegression().fit(descriptoles, valores)\n",
        "print \"Regresion lineal - R2: \", reg.score(descriptoles, valores)\n",
        "\n",
        "# Arbol de decision\n",
        "arbol = tree.DecisionTreeRegressor().fit(descriptoles, valores)\n",
        "print \"Arbol de decision - R2: \", arbol.score(descriptoles, valores)\n",
        "\n",
        "# Maquina de soporte vectorial\n",
        "msv = svm.LinearSVR().fit(descriptoles, valores)\n",
        "print \"Maquina de SV - R2: \", msv.score(descriptoles, valores)\n",
        "\n",
        "# Red neural artifical\n",
        "# Las redes neurales son los modelos mas complejos\n",
        "# Estos llevan mucha calibracion y deben de entenderse a profundidad\n",
        "rna = neural_network.MLPRegressor(hidden_layer_sizes=(50,50), solver=\"lbfgs\",\n",
        "                                  activation=\"logistic\", alpha=0.001,\n",
        "                                  max_iter=750)\n",
        "# Debemos normalizar los datos previamente\n",
        "normalizar = MinMaxScaler(feature_range=(0, 1))\n",
        "normalizar.fit(descriptoles)\n",
        "descript = normalizar.transform(descriptoles)\n",
        "# Ahora ya podemos entrenar la red\n",
        "rna.fit(descript, valores)\n",
        "print \"Red neural - R2: \", rna.score(descript, valores)\n"
      ],
      "execution_count": 8,
      "outputs": [
        {
          "output_type": "stream",
          "text": [
            "Regresion lineal - R2:  0.9759486384755583\n",
            "Arbol de decision - R2:  0.9898807111099519\n",
            "Maquina de SV - R2:  0.9513700664917737\n",
            "Red neural - R2:  0.9898804001196404\n"
          ],
          "name": "stdout"
        }
      ]
    },
    {
      "metadata": {
        "id": "7hdT1BvaIwWz",
        "colab_type": "text"
      },
      "cell_type": "markdown",
      "source": [
        "Ahora que ya conocemos los $R^2$ de cada modelo, podemos escoger el que mejor nos pareció y aplicarlo a un nuevo dato. Vamos a probarlo con la molécula de alcohol isononílico."
      ]
    },
    {
      "metadata": {
        "id": "TTuE8BwEKA-v",
        "colab_type": "code",
        "outputId": "27b197a0-98e4-478f-e3ca-34b601aba9c0",
        "colab": {
          "base_uri": "https://localhost:8080/",
          "height": 85
        }
      },
      "cell_type": "code",
      "source": [
        "# Escribimos el SMILES\n",
        "isononilico = \"C(C)CCCCCCCO\"\n",
        "# Convertimos la molecula en objeto RDKit\n",
        "y = Chem.MolFromSmiles(isononilico)\n",
        "y.SetProp(\"_Name\",\"isononilico\")\n",
        "y = Chem.AddHs(y)\n",
        "AllChem.EmbedMolecule(y)\n",
        "AllChem.MMFFOptimizeMolecule(y)\n",
        "# Calculamos descriptores\n",
        "\n",
        "dy = np.array([obtener_descriptores(y)])\n",
        "print \"Segun regresion lineal:\", round( reg.predict(dy)[0], 2 )\n",
        "print \"Segun arbol de decision:\", round( arbol.predict(dy)[0], 2 )\n",
        "print \"Segun maquina de SV:\", round( msv.predict(dy)[0], 2 )\n",
        "ndy = normalizar.transform(dy)\n",
        "print \"Segun red neural:\", round( rna.predict(ndy)[0], 2 )"
      ],
      "execution_count": 9,
      "outputs": [
        {
          "output_type": "stream",
          "text": [
            "Segun regresion lineal: 204.95\n",
            "Segun arbol de decision: 188.0\n",
            "Segun maquina de SV: 203.44\n",
            "Segun red neural: 204.01\n"
          ],
          "name": "stdout"
        }
      ]
    },
    {
      "metadata": {
        "id": "akDbjBZNOyHX",
        "colab_type": "text"
      },
      "cell_type": "markdown",
      "source": [
        "¡Y con esto acaba el ejemplo! Obtuvimos una aproximación del punto de ebullición del alcohol isononílico en base a varias técnicas. Ahora lo importante es buscar qué tan cerca están estas técnicas del valor real.\n",
        "\n",
        "---"
      ]
    },
    {
      "metadata": {
        "id": "jmnOIgrZPG4K",
        "colab_type": "text"
      },
      "cell_type": "markdown",
      "source": [
        "## Proyecto\n",
        "Después de haber visto un ejemplo de cómo se utilizan valores experimentales, descriptores y un modelo matemático para construir un modelo estructura-propiedad, es momento de trabajar con más datos y algo más aplicado. A continuación se te presentan una tabla con 149 datos del artículo antes mencionado. Tu tarea consta de lo siguiente:\n",
        "1. Convertir los SMILES a **objetos RDKit**\n",
        "2. Encontrar **qué descriptores** utilizarás en tu estudio\n",
        "3. **Calcular los descriptores** de tu elección\n",
        "4. Escoger **qué modelos** vas a probar\n",
        "5. **Entrenar los modelos** y calcular el coeficiente de determinación $R^2$\n",
        "6. **Calcular el tiempo de retención** de una molécula que se te dará al momento de realizar este proyecto\n",
        "\n",
        "Vale la pena recordar un par de cosas:\n",
        "* Los descriptores es bueno calcularlos todos con una función\n",
        "* Las redes neurales son delicadas; cuesta bastante trabajo calibrarlas\n",
        "* ¡Muchos éxitos!\n"
      ]
    },
    {
      "metadata": {
        "id": "FYM9Mroan7TR",
        "colab_type": "code",
        "colab": {}
      },
      "cell_type": "code",
      "source": [
        "# Definiendo las moleculas con las que se trabajara\n",
        "# Entradas = \"nombre\":[\"SMILES\", tiempo de retencion]\n",
        "moleculas = { \"heptano\":[\"CCCCCCC\",1.78],\n",
        "              \"decano\":[\"CCCCCCCCCC\",4.59],\n",
        "              \"dodecano\":[\"CCCCCCCCCCCC\",6.34],\n",
        "              \"pentadecano\":[\"CCCCCCCCCCCCCCC\",8.56],\n",
        "              \"eicosano\":[\"CCCCCCCCCCCCCCCCCCCC\",11.55],\n",
        "              \"ciclohexano\":[\"C1CCCCC1\",1.53],\n",
        "              \"1-octeno\":[\"C=CCCCCCC\",2.53],\n",
        "              \"1-deceno\":[\"C=CCCCCCCCC\",4.45],\n",
        "              \"benceno\":[\"C1=CC=CC=C1\",1.46],\n",
        "              \"tolueno\":[\"C1(C)=CC=CC=C1\",2.23],\n",
        "              \"o-xileno\":[\"C1(C)=C(C)C=CC=C1\",3.43],\n",
        "              \"etilbenceno\":[\"C1(CC)=CC=CC=C1\",3.12],\n",
        "              \"propilbenceno\":[\"C1(CCC)=CC=CC=C1\",4.04],\n",
        "              \"alilbenceno\":[\"C1(CC=C)=CC=CC=C1\",3.93],\n",
        "              \"anisol\":[\"C1(OC)=CC=CC=C1\",3.59],\n",
        "              \"mesitileno\":[\"C1(C)=CC(C)=CC(C)=C1\",4.18],\n",
        "              \"a-metilestireno\":[\"C1(C(=C)C)=CC=CC=C1\",4.27],\n",
        "              \"ciclohexilbenceno\":[\"C1(C2CCCCC2)=CC=CC=C1\",7.24],\n",
        "              \"hexametilbenceno\":[\"C1(C)=C(C)C(C)=C(C)C(C)=C1(C)\",8.21],\n",
        "              \"4-fenil-1-buteno\":[\"C=CCC(C1=CC=CC=C1)\",4.87],\n",
        "              \"bifenilo\":[\"C1(C2=CC=CC=C2)=CC=CC=C1\",7.60],\n",
        "              \"cumeno\":[\"C1(C(C)C)=CC=CC=C1\",3.75],\n",
        "              \"indano\":[\"C1(CCC2)=C2C=CC=C1\",4.79],\n",
        "              \"tetralina\":[\"C1(CCCC2)=C2C=CC=C1\",5.92],\n",
        "              \"difenilmetano\":[\"C1(CC2=CC=CC=C2)=CC=CC=C1\",7.96],\n",
        "              \"estilbeno\":[\"C1(/C=C/C2=CC=CC=C2)=CC=CC=C1\",9.79],\n",
        "              \"naftaleno\":[\"C1(C=CC=C2)=C2C=CC=C1\",6.09],\n",
        "              \"1-bencilnaftaleno\":[\"C1(C=CC=C2)=C2C(C3=CC=CC=C3)=CC=C1\",11.39],\n",
        "              \"1,1'-binaftil\":[\"C1(C=CC=C2)=C2C(C3=C(C=CC=C4)C4=CC=C3)=CC=C1\",14.14],\n",
        "              \"fenantreno\":[\"C1(C(C=CC=C3)=C3C=C2)=C2C=CC=C1\",10.27],\n",
        "              \"antraceno\":[\"C1(C=C(C=CC=C3)C3=C2)=C2C=CC=C1\",10.34],\n",
        "              \"fluoreno\":[\"C1=C(C(C=CC=C3)=C3C2)C2=CC=C1\",10.28],\n",
        "              \"bibencilo\":[\"C1(CC(C2=CC=CC=C2))=CC=CC=C1\",8.61],\n",
        "              \"1-octanol\":[\"CCCCCCCCO\",5.10],\n",
        "              \"1-decanol\":[\"CCCCCCCCCCO\",6.77],\n",
        "              \"1-dodecanol\":[\"CCCCCCCCCCCCO\",8.26],\n",
        "              \"ciclopentanol\":[\"C1(O)CCCC1\",2.32],\n",
        "              \"ciclohexanol\":[\"C1(O)CCCCC1\",3.27],\n",
        "              \"fenol\":[\"C1(O)=CC=CC=C1\",4.16],\n",
        "              \"p-cresol\":[\"C1(O)=CC=C(C)C=C1\",5.02],\n",
        "              \"m-cresol\":[\"C1(O)=CC(C)=CC=C1\",5.03],\n",
        "              \"o-cresol\":[\"C1(O)=C(C)C=CC=C1\",4.84],\n",
        "              \"2-etilfenol\":[\"C1(O)=C(CC)C=CC=C1\",5.58],\n",
        "              \"4-etilfenol\":[\"C1(O)=CC=C(CC)C=C1\",5.81],\n",
        "              \"4-isopropilfenol\":[\"C1(O)=CC=C(C(C)C)C=C1\",6.32],\n",
        "              \"2-isopropilfenol\":[\"C1(O)=C(C(C)C)C=CC=C1\",6.11],\n",
        "              \"2-isopropoxifenol\":[\"C1(O)=C(O(C(C)C))C=CC=C1\",5.95],\n",
        "              \"alcohol bencílico\":[\"C1(C(O))=CC=CC=C1\",4.64],\n",
        "              \"1-naftol\":[\"C1(C=CC=C2)=C2C=CC=C1O\",8.41],\n",
        "              \"5,6,7,8-tetrahidro-1-naftol\":[\"C1(CCCC2)=C2CCCC1O\",8.02],\n",
        "              \"1,3-propanodiol\":[\"C(O)CCO\",2.65],\n",
        "              \"1,4-butanodiol\":[\"C(O)CCCO\",3.72],\n",
        "              \"1,6-dihidroxinaftaleno\":[\"C1(CCC=C2)=C2CCC=C1\",10.33],\n",
        "              \"1,7-dihidroxinaftaleno\":[\"C1(CCC=C2)=C2C=CCC1\",10.30],\n",
        "              \"octilamina\":[\"C(N)CCCCCCC\",4.88],\n",
        "              \"decilamina\":[\"C(N)CCCCCCCCC\",6.62],\n",
        "              \"dodecilamina\":[\"C(N)CCCCCCCCCCC\",8.14],\n",
        "              \"ciclohexilamina\":[\"C1(N)CCCCC1\",3.05],\n",
        "              \"cicloheptilamina\":[\"C1(N)CCCCCC1\",4.40],\n",
        "              \"di-n-butilamina\":[\"C(NCCCC)CCC\",4.18],\n",
        "              \"anilina\":[\"C1(N)C=CC=CC=C1\",4.08],\n",
        "              \"bencilamina\":[\"C1(CN)C=CC=CC=C1\",4.47],\n",
        "              \"o-toluidina\":[\"C1(N)C(C)=CC=CC=C1\",5.00],\n",
        "              \"p-toluidina\":[\"C1(N)C=CC(C)=CC=C1\",5.02],\n",
        "              \"N-metilanilina\":[\"C1(NC)=CC=CC=C1\",4.94],\n",
        "              \"difenilamina\":[\"C1(NC2=CC=CC=CC2)=CC=CC=C1\",9.16],\n",
        "              \"furfural\":[\"C1(CO)=CC=CCC1\",2.73],\n",
        "              \"2,4-dimetil-3-pentanona\":[\"CC(C)C(O)C(C)C\",2.43],\n",
        "              \"propiofenona\":[\"C1(C(O)CC)=CC=CC=C1\",5.82],\n",
        "              \"ciclopentanona\":[\"C1(O)CCCC1\",2.26],\n",
        "              \"ciclohexanona\":[\"C1(O)CCCCC1\",3.25],\n",
        "              \"cicloheptanona\":[\"C1(O)CCCCCC1\",4.42],\n",
        "              \"ciclohexilfenilcetona\":[\"C1(C(C2=CC=CC=CC2)O)=CC=CC=C1\",9.14],\n",
        "              \"benzofenona\":[\"C1(C(O)C2=CC=CC=CC2)=CC=CC=C1\",9.23],\n",
        "              \"acetofenona\":[\"C1(C(O)C)=CC=CC=C1\",4.93],\n",
        "              \"1-tetralona\":[\"C1CC2=CC=CC=C2C(=O)C1\",7.48],\n",
        "              \"1,4-naftoquinona\":[\"C1=CC=C2C(=O)C=CC(=O)C2=C1\",7.68],\n",
        "              \"benzaldehido\":[\"C1(C=O)=CC=CC=CC1\",3.92],\n",
        "              \"p-tolualdehido\":[\"C1(C=O)=CC=C(C)C=C1\",5.10],\n",
        "              \"trans-cinnamaldehido\":[\"C1=CC=C(C=C1)C=CC=O\",6.63],\n",
        "              \"hexanonitrilo\":[\"C(C#N)CCCCC\",3.06],\n",
        "              \"benzonitrilo\":[\"C1(C#C)=CC=CC=C1\",4.10],\n",
        "              \"1-bromodecano\":[\"C(Br)CCCCCCCCC\",7.42],\n",
        "              \"clorociclohexano\":[\"C1(Cl)CCCCC1\",3.36],\n",
        "              \"bromobenceno\":[\"C1(Br)=CC=CC=C1\",3.75],\n",
        "              \"yodobenceno\":[\"C1(I)=CC=CC=C1\",4.74],\n",
        "              \"p-clorotolueno\":[\"C1(Cl)=CC=C(C)C=C1\",4.03],\n",
        "              \"p-bromotolueno\":[\"C1(Br)=CC=C(C)C=C1\",5.24],\n",
        "              \"1-bromonaftaleno\":[\"C1(C=CC=C2)=C2C(Br)=CC=C1\",8.33],\n",
        "              \"eter difenilico\":[\"C1(OC2=CC=CC=C2)=CC=CC=C1\",7.74],\n",
        "              \"eter bencilfenilico\":[\"C1(OCC2=CC=CC=C2)=CC=CC=C1\",8.87],\n",
        "              \"eter butilfenilico\":[\"C1(OCCCC)=CC=CC=C1\",6.08],\n",
        "              \"1,3,5-trimetoxibenceno\":[\"C1(OC)=CC(OC)=CC(OC)=C1\",7.68],\n",
        "              \"sulfuro de dioctilo\":[\"CCCCCCCCSCCCCCCCC\",10.90],\n",
        "              \"sulfuro de difenilo\":[\"C1(S(C2=CC=CC=C2))=CC=CC=C1\",9.02],\n",
        "              \"tioanisol\":[\"C1(SC)=CC=CC=C1\",5.16],\n",
        "              \"sulfuro de metilbencilo\":[\"C1(CSC)=CC=CC=C1\",5.88],\n",
        "              \"1-metilpiperazina\":[\"C1N(C)CCNC1\",2.98],\n",
        "              \"quinolina\":[\"C1(N=CC=C2)=C2C=CC=C1\",6.45],\n",
        "              \"isoquinolina\":[\"C1(C=NC=C2)=C2C=CC=C1\",6.65],\n",
        "              \"1,2,3,4-tetrahidroquinolina\":[\"C1(NCCC2)=C2C=CC=C1\",7.17],\n",
        "              \"1,2,3,4-tetrahidroisoquinolina\":[\"C1(CNCC2)=C2CC=CC=C1\",6.75],\n",
        "              \"indol\":[\"C1(NC=C2)=C2C=CC=C1\",6.81],\n",
        "              \"benzimidazol\":[\"C1=CC=C2C(=C1)NC=N2\",8.02],\n",
        "              \"quinaldina\":[\"CC1=NC2=CC=CC=C2C=C1\",7.04],\n",
        "              \"fenantridina\":[\"C1=CC=C2C(=C1)C=NC3=CC=CC=C23\",10.49],\n",
        "              \"acridina\":[\"C1=CC=C2C(=C1)C=C3C=CC=CC3=N2\",10.35],\n",
        "              \"1-metil-2-piridona\":[\"CN1C=CC=CC1=O\",5.78],\n",
        "              \"tiofeno\":[\"C1=CSC=C1\",1.49],\n",
        "              \"pirrol\":[\"C1=CNC=C1\",2.04],\n",
        "              \"dibenzofurano\":[\"C1=CC=C2C(=C1)C3=CC=CC=C3O2\",8.60],\n",
        "              \"dibenzotiofeno\":[\"C1=CC=C2C(=C1)C3=CC=CC=C3S2\",10.11],\n",
        "              \"benzotiazol\":[\"C1=CC=C2C(=C1)N=CS2\",6.33],\n",
        "              \"3-picolina\":[\"CC1=CN=CC=C1\",2.97],\n",
        "              \"4-picolina\":[\"CC1=CC=NC=C1\",2.98],\n",
        "              \"2-picolina\":[\"CC1=CC=CC=N1\",2.56],\n",
        "              \"2,3-lutidina\":[\"CC1=C(N=CC=C1)C\",3.80],\n",
        "              \"2,4-lutidina\":[\"CC1=CC(=NC=C1)C\",3.66],\n",
        "              \"2,6-lutidina\":[\"CC1=NC(=CC=C1)C\",3.23],\n",
        "              \"4-etilpiridina\":[\"CCC1=CC=NC=C1\",3.97],\n",
        "              \"2-etilpiridina\":[\"CCC1=CC=CC=N1\",3.44],\n",
        "              \"3-etilpiridina\":[\"CCC1=CN=CC=C1\",3.92],\n",
        "              \"2,4,6-colidina\":[\"C1=C(C)C(C)=NC=C(C)1\",0.87],\n",
        "              \"3-cianopiridina\":[\"C1=C(C#N)C=NC=C1\",4.19],\n",
        "              \"4-cianopiridina\":[\"C1(C#N)=CC=NC=C1\",3.89],\n",
        "              \"3-piridincarboxaldehido\":[\"C1=C(C=O)C=NC=C1\",4.17],\n",
        "              \"2-acetilpiridina\":[\"C1=CC(C=O)=NC=C1\",4.60],\n",
        "              \"3-acetilpiridina\":[\"C1=C(C=O)C=NC=C1\",5.20],\n",
        "              \"2-amino-4,6-dimetilpiridina\":[\"C1(C)=CC(N)=NC(C)=C1\",5.85],\n",
        "              \"4-(2-aminoetil)piridina\":[\"C1=CC(NCC)=NC=C1\",6.08],\n",
        "              \"etil pipecolinato\":[\"CCOC(=O)C1CCCCN1\",6.11],\n",
        "              \"2-(2-hidroxietil)piridina)\":[\"C1=CC(CCO)=NC=C1\",5.63],\n",
        "              \"etil isonicotinato\":[\"CCOC(=O)C1=CC=NC=C1\",6.04],\n",
        "              \"2,2'-bipiridina\":[\"C1=CC=NC(=C1)C2=CC=CC=N2\",7.98],\n",
        "              \"acido ciclohexanocarboxilico\":[\"C1CCC(CC1)C(=O)O\",5.62],\n",
        "              \"acido nonanoico\":[\"CCCCCCCCC(=O)O\",6.76],\n",
        "              \"acido fenilacetico\":[\"C1=CC=C(C=C1)CC(=O)O\",6.54],\n",
        "              \"acido 4-fenilbutirico\":[\"C1=CC=C(C=C1)CCCC(=O)O\",7.86],\n",
        "              \"acido trans-cinamico\":[\"C1=CC=C(C=C1)C=CC(=O)O\",7.86],\n",
        "              \"acido 2,4,6-trimetilbenzoico\":[\"CC1=CC(=C(C(=C1)C)C(=O)O)C\",7.82],\n",
        "              \"carbonato de dietilo\":[\"CCOC(=O)OCC\",2.29],\n",
        "              \"acetato de bencilo\":[\"CC(=O)OCC1=CC=CC=C1\",5.73],\n",
        "              \"benzoato de fenilo\":[\"C1=CC=C(C=C1)C(=O)OC2=CC=CC=C2\",9.42],\n",
        "              \"cumarina\":[\"C1=CC=C2C(=C1)C=CC(=O)O2\",7.87],\n",
        "              \"dihidrocumarina\":[\"C1CC(=O)OC2=CC=CC=C21\",7.46],\n",
        "              \"isocromona\":[\"C1COCC2=CC=CC=C21\",4.13],\n",
        "              \"metilfenil sulfoxido\":[\"CS(=O)C1=CC=CC=C1\",7.07],\n",
        "              \"nitrobenceno\":[\"C1=CC=C(C=C1)[N+](=O)[O-]\",5.09],\n",
        "              \"p-nitrotolueno\":[\"CC1=CC=C(C=C1)[N+](=O)[O-]\",6.24]}"
      ],
      "execution_count": 0,
      "outputs": []
    },
    {
      "metadata": {
        "id": "9AzIRAJHJf_C",
        "colab_type": "code",
        "colab": {}
      },
      "cell_type": "code",
      "source": [
        "objetos = {}\n",
        "nombres = moleculas.keys()\n",
        "for n in nombres:\n",
        "  x = Chem.MolFromSmiles(moleculas[n][0])\n",
        "  Chem.Kekulize(x)\n",
        "  x.SetProp(\"_Name\",n)\n",
        "  x = Chem.AddHs(x)\n",
        "  AllChem.EmbedMolecule(x)\n",
        "  AllChem.MMFFOptimizeMolecule(x)\n",
        "  objetos[n] = [x, moleculas[n][1]]"
      ],
      "execution_count": 0,
      "outputs": []
    },
    {
      "metadata": {
        "id": "zsYD31nDRYbg",
        "colab_type": "code",
        "colab": {}
      },
      "cell_type": "code",
      "source": [
        "# Funcion para calcular descriptores\n",
        "def deseo_descriptores(molecula):\n",
        "  # Aqui van los calculos de descriptores\n",
        "  # y se van colocando en variables diferentes\n",
        "  # que al final se combinan\n",
        "  return []"
      ],
      "execution_count": 0,
      "outputs": []
    },
    {
      "metadata": {
        "id": "bOoWNiBhME4H",
        "colab_type": "code",
        "colab": {}
      },
      "cell_type": "code",
      "source": [
        "# Esta funcion te puede ayudar si deseas visualizar alguna\n",
        "# de las moleculas en la lista\n",
        "def mostrar(molecula):\n",
        "  x = objetos[molecula][0]\n",
        "  AllChem.Compute2DCoords(x)\n",
        "  x = Chem.RemoveHs(x)\n",
        "  Draw.MolToMPL(x,size=(100,100))"
      ],
      "execution_count": 0,
      "outputs": []
    },
    {
      "metadata": {
        "id": "9xkWnoPDQ8Te",
        "colab_type": "code",
        "outputId": "5f5e1d52-1a04-4baa-a3ea-8ad42cb2217e",
        "colab": {
          "base_uri": "https://localhost:8080/",
          "height": 211
        }
      },
      "cell_type": "code",
      "source": [
        "# Se utiliza de esta manera\n",
        "mostrar(\"pirrol\")"
      ],
      "execution_count": 14,
      "outputs": [
        {
          "output_type": "display_data",
          "data": {
            "image/png": "[encoded data removed]",
            "text/plain": [
              "<Figure size 72x72 with 1 Axes>"
            ]
          },
          "metadata": {
            "tags": []
          }
        }
      ]
    },
    {
      "metadata": {
        "id": "K3CXWD_t89FN",
        "colab_type": "code",
        "colab": {}
      },
      "cell_type": "code",
      "source": [
        ""
      ],
      "execution_count": 0,
      "outputs": []
    }
  ]
}